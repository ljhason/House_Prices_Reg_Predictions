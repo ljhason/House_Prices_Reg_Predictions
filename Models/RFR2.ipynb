{
 "cells": [
  {
   "cell_type": "code",
   "execution_count": 7,
   "metadata": {},
   "outputs": [],
   "source": [
    "import numpy as np\n",
    "import math\n",
    "import pandas as pd\n",
    "import seaborn as sns\n",
    "import matplotlib.pyplot as plt\n",
    "from scipy import stats\n",
    "\n",
    "# Proprocessing\n",
    "from sklearn.compose import ColumnTransformer, make_column_transformer\n",
    "from sklearn.pipeline import Pipeline, make_pipeline\n",
    "from sklearn.impute import SimpleImputer\n",
    "from sklearn.preprocessing import StandardScaler, OneHotEncoder, OrdinalEncoder\n",
    "\n",
    "# XGBoost Model\n",
    "from sklearn.model_selection import train_test_split, cross_val_score\n",
    "from sklearn.metrics import mean_squared_error, r2_score, mean_absolute_error\n",
    "import optuna\n",
    "from sklearn.ensemble import RandomForestRegressor\n",
    "\n",
    "# For reproducibility\n",
    "from teachopencadd.utils import seed_everything\n",
    "SEED = 42\n",
    "seed_everything(SEED)"
   ]
  },
  {
   "cell_type": "code",
   "execution_count": 8,
   "metadata": {},
   "outputs": [],
   "source": [
    "train_file_path_scat = '../Data/Data/train_filter_scat.csv'\n",
    "train_df_scat = pd.read_csv(train_file_path_scat)\n",
    "\n",
    "train_file_path_UMAP = '../Data/Data/train_filter_UMAP.csv'\n",
    "train_df_UMAP = pd.read_csv(train_file_path_UMAP)"
   ]
  },
  {
   "cell_type": "markdown",
   "metadata": {},
   "source": [
    "# Pipelines"
   ]
  },
  {
   "cell_type": "code",
   "execution_count": 9,
   "metadata": {},
   "outputs": [],
   "source": [
    "ode_cols = ['LotShape', 'LandContour', 'Utilities', 'LandSlope', 'ExterQual', 'ExterCond', 'BsmtQual', 'BsmtCond', 'BsmtExposure', 'BsmtFinType1', 'BsmtFinType2', 'HeatingQC', 'CentralAir', 'KitchenQual', 'Functional', 'FireplaceQu', 'GarageFinish', 'GarageQual', 'GarageCond', 'PavedDrive', 'PoolQC']\n",
    "ohe_cols = ['MSZoning', 'Street', 'LotConfig', 'Neighborhood', 'Condition1', 'Condition2', 'BldgType', 'HouseStyle', 'RoofStyle', 'RoofMatl', 'Exterior1st', 'Exterior2nd', 'MasVnrType', 'Foundation', 'Heating', 'Electrical', 'GarageType', 'SaleType', 'SaleCondition']\n",
    "num_cols = train_df_UMAP.select_dtypes(include=['float64', 'int64']).columns\n",
    "num_cols = num_cols.drop(\"SalePrice\")"
   ]
  },
  {
   "cell_type": "code",
   "execution_count": 10,
   "metadata": {},
   "outputs": [],
   "source": [
    "num_pipeline = Pipeline(steps=[\n",
    "    ('impute', SimpleImputer(strategy='mean')),\n",
    "    ('scaler', StandardScaler())\n",
    "])\n",
    "\n",
    "\n",
    "ohe_pipeline = Pipeline(steps=[\n",
    "    ('impute', SimpleImputer(strategy='most_frequent')),\n",
    "    ('ohe', OneHotEncoder(handle_unknown='ignore', sparse_output=False))\n",
    "])\n",
    "\n",
    "\n",
    "ode_pipeline = Pipeline(steps=[\n",
    "    ('impute', SimpleImputer(strategy='most_frequent')),\n",
    "    ('ode', OrdinalEncoder(handle_unknown='use_encoded_value', unknown_value=-1))\n",
    "\n",
    "])\n",
    "\n",
    "col_trans = ColumnTransformer(transformers=[\n",
    "    ('num_p', num_pipeline, num_cols),\n",
    "    ('ode_p', ode_pipeline, ode_cols),\n",
    "    ('ohe_p', ohe_pipeline, ohe_cols),\n",
    "    ],\n",
    "    remainder='passthrough',\n",
    "    n_jobs=-1)\n",
    "\n",
    "pipeline = Pipeline(steps=[\n",
    "    ('preprocessing', col_trans)\n",
    "])"
   ]
  },
  {
   "cell_type": "code",
   "execution_count": 11,
   "metadata": {},
   "outputs": [],
   "source": [
    "# X = train_df_UMAP.drop('SalePrice', axis=1)\n",
    "# Y = train_df_UMAP['SalePrice']\n",
    "\n",
    "# # Pass the data through the pipeline\n",
    "# X_preprocessed = pipeline.fit_transform(X)\n",
    "\n",
    "# # Train test split\n",
    "# x_train_UMAP, x_test_UMAP, y_train_UMAP, y_test_UMAP= train_test_split(X_preprocessed, Y, test_size=0.2, random_state=SEED)\n",
    "\n",
    "X = train_df_scat.drop('SalePrice', axis=1)\n",
    "Y = train_df_scat['SalePrice']\n",
    "\n",
    "# Pass the data through the pipeline\n",
    "X_preprocessed = pipeline.fit_transform(X)\n",
    "\n",
    "# Train test split\n",
    "x_train_scat, x_test_scat, y_train_scat, y_test_scat= train_test_split(X_preprocessed, Y, test_size=0.2, random_state=SEED)"
   ]
  },
  {
   "cell_type": "markdown",
   "metadata": {},
   "source": [
    "# Random Forest Regressor"
   ]
  },
  {
   "cell_type": "code",
   "execution_count": 12,
   "metadata": {},
   "outputs": [],
   "source": [
    "# RF = RandomForestRegressor(random_state=SEED)\n",
    "# RF.fit(x_train_UMAP , y_train_UMAP)\n",
    "# y_pred = RF.predict(x_test_UMAP)\n",
    "\n",
    "RF = RandomForestRegressor(random_state=SEED)\n",
    "RF.fit(x_train_scat , y_train_scat)\n",
    "y_pred = RF.predict(x_test_scat)"
   ]
  },
  {
   "cell_type": "code",
   "execution_count": 13,
   "metadata": {},
   "outputs": [
    {
     "ename": "NameError",
     "evalue": "name 'y_test_UMAP' is not defined",
     "output_type": "error",
     "traceback": [
      "\u001b[0;31m---------------------------------------------------------------------------\u001b[0m",
      "\u001b[0;31mNameError\u001b[0m                                 Traceback (most recent call last)",
      "Cell \u001b[0;32mIn[13], line 3\u001b[0m\n\u001b[1;32m      1\u001b[0m \u001b[38;5;66;03m# scatter plot of predicted vs actual\u001b[39;00m\n\u001b[1;32m      2\u001b[0m plt\u001b[38;5;241m.\u001b[39mfigure(figsize\u001b[38;5;241m=\u001b[39m(\u001b[38;5;241m10\u001b[39m, \u001b[38;5;241m10\u001b[39m))\n\u001b[0;32m----> 3\u001b[0m plt\u001b[38;5;241m.\u001b[39mscatter(y_test_UMAP, y_pred)\n\u001b[1;32m      4\u001b[0m plt\u001b[38;5;241m.\u001b[39mplot(\u001b[38;5;28mrange\u001b[39m(\u001b[38;5;241m0\u001b[39m, \u001b[38;5;241m600000\u001b[39m), \u001b[38;5;28mrange\u001b[39m(\u001b[38;5;241m0\u001b[39m, \u001b[38;5;241m600000\u001b[39m), color\u001b[38;5;241m=\u001b[39m\u001b[38;5;124m'\u001b[39m\u001b[38;5;124mred\u001b[39m\u001b[38;5;124m'\u001b[39m)\n\u001b[1;32m      5\u001b[0m plt\u001b[38;5;241m.\u001b[39mxlabel(\u001b[38;5;124m\"\u001b[39m\u001b[38;5;124mTrue values\u001b[39m\u001b[38;5;124m\"\u001b[39m)\n",
      "\u001b[0;31mNameError\u001b[0m: name 'y_test_UMAP' is not defined"
     ]
    },
    {
     "data": {
      "text/plain": [
       "<Figure size 1000x1000 with 0 Axes>"
      ]
     },
     "metadata": {},
     "output_type": "display_data"
    }
   ],
   "source": [
    "# scatter plot of predicted vs actual\n",
    "plt.figure(figsize=(10, 10))\n",
    "plt.scatter(y_test_scat, y_pred)\n",
    "plt.plot(range(0, 600000), range(0, 600000), color='red')\n",
    "plt.xlabel(\"True values\")\n",
    "plt.ylabel(\"Predicted values\")\n",
    "plt.title(\"Default RF model: Scatter Filter\")\n",
    "plt.show()\n",
    "\n",
    "pearson_corr, _ = stats.pearsonr(y_test_scat, y_pred)\n",
    "spearman_corr, _ = stats.spearmanr(y_test_scat, y_pred)\n",
    "r2 = r2_score(y_test_scat, y_pred)\n",
    "mae = mean_absolute_error(y_test_scat, y_pred)\n",
    "rmse = math.sqrt(mean_squared_error(y_test_scat, y_pred))\n",
    "\n",
    "print(f\"R^2: {r2:.3f}\")\n",
    "print(f\"RMSE: {rmse:.3f}\")\n",
    "print(f\"MAE: {mae:.3f}\")\n",
    "print(f\"Pearson correlation: {pearson_corr:.3f}\")\n",
    "print(f\"Spearman correlation: {spearman_corr:.3f}\")"
   ]
  },
  {
   "cell_type": "code",
   "execution_count": null,
   "metadata": {},
   "outputs": [],
   "source": [
    "# def objective_UMAP(trial):\n",
    "#     n_estimators = trial.suggest_int('n_estimators', 100, 750)\n",
    "#     max_depth = trial.suggest_categorical('max_depth', [1, 2, 3, 4, 5, 6, 7, 8, 9, 10, None])\n",
    "#     min_samples_split = trial.suggest_int('min_samples_split', 2, 10)\n",
    "#     min_samples_leaf = trial.suggest_int('min_samples_leaf', 1, 10)\n",
    "#     model = RandomForestRegressor(n_estimators=n_estimators, max_depth=max_depth, min_samples_split=min_samples_split, min_samples_leaf=min_samples_leaf, random_state=SEED)\n",
    "#     model.fit(x_train_UMAP, y_train_UMAP)\n",
    "\n",
    "#     score = cross_val_score(model, x_train_UMAP, y_train_UMAP, cv=5, scoring='neg_mean_squared_error', n_jobs=-1).mean()\n",
    "#     return score\n",
    "\n",
    "def objective_UMAP(trial):\n",
    "    n_estimators = trial.suggest_int('n_estimators', 100, 750)\n",
    "    max_depth = trial.suggest_categorical('max_depth', [1, 2, 3, 4, 5, 6, 7, 8, 9, 10, None])\n",
    "    min_samples_split = trial.suggest_int('min_samples_split', 2, 10)\n",
    "    min_samples_leaf = trial.suggest_int('min_samples_leaf', 1, 10)\n",
    "    model = RandomForestRegressor(n_estimators=n_estimators, max_depth=max_depth, min_samples_split=min_samples_split, min_samples_leaf=min_samples_leaf, random_state=SEED)\n",
    "    model.fit(x_train_scat, y_train_scat)\n",
    "\n",
    "    score = cross_val_score(model, x_train_scat, y_train_scat, cv=5, scoring='neg_mean_squared_error', n_jobs=-1).mean()\n",
    "    return score\n",
    "\n"
   ]
  },
  {
   "cell_type": "code",
   "execution_count": null,
   "metadata": {},
   "outputs": [],
   "source": [
    "# study_UMAP_RF = optuna.create_study(direction='maximize', sampler = optuna.samplers.TPESampler(seed=SEED))\n",
    "# study_UMAP_RF.optimize(objective_UMAP, n_trials=1000, show_progress_bar=True)\n",
    "\n",
    "study_scat_RF = optuna.create_study(direction='maximize', sampler = optuna.samplers.TPESampler(seed=SEED))\n",
    "study_scat_RF.optimize(objective_scat, n_trials=1000, show_progress_bar=True)"
   ]
  },
  {
   "cell_type": "code",
   "execution_count": null,
   "metadata": {},
   "outputs": [],
   "source": [
    "study_scat_RF.best_params"
   ]
  },
  {
   "cell_type": "markdown",
   "metadata": {},
   "source": [
    "# UMAP best\n",
    "{'n_estimators': 750,\n",
    " 'max_depth': None,\n",
    " 'min_samples_split': 8,\n",
    " 'min_samples_leaf': 1}"
   ]
  },
  {
   "cell_type": "code",
   "execution_count": null,
   "metadata": {},
   "outputs": [],
   "source": [
    "# best_params_UMAP = {'n_estimators': 750,\n",
    "#  'max_depth': None,\n",
    "#  'min_samples_split': 8,\n",
    "#  'min_samples_leaf': 1}\n",
    "# best_params_UMAP = study_UMAP_RF.best_params\n",
    "\n",
    "best_params_scat = study_scat_RF.best_params\n",
    "\n",
    "# best_n_estimators_UMAP = best_params_UMAP['n_estimators']\n",
    "# best_max_depth_UMAP = best_params_UMAP['max_depth']\n",
    "# best_min_samples_split_UMAP = best_params_UMAP['min_samples_split']\n",
    "# best_min_samples_leaf_UMAP = best_params_UMAP['min_samples_leaf']\n",
    "\n",
    "# best_RF_UMAP = RandomForestRegressor(n_estimators=best_n_estimators_UMAP, max_depth=best_max_depth_UMAP, min_samples_split=best_min_samples_split_UMAP, min_samples_leaf=best_min_samples_leaf_UMAP, random_state=SEED)\n",
    "# best_RF_UMAP.fit(x_train_UMAP, y_train_UMAP)\n",
    "# best_y_pred_UMAP = best_RF_UMAP.predict(x_test_UMAP)\n",
    "\n",
    "best_b_estimators_scat = best_params_scat['n_estimators']\n",
    "best_max_depth_scat = best_params_scat['max_depth']\n",
    "best_min_samples_split_scat = best_params_scat['min_samples_split']\n",
    "best_min_samples_leaf_scat = best_params_scat['min_samples_leaf']\n",
    "\n",
    "best_RF_scat = RandomForestRegressor(n_estimators=best_n_estimators_scat, max_depth=best_max_depth_scat, min_samples_split=best_min_samples_split_scat, min_samples_leaf=best_min_samples_leaf_scat, random_state=SEED)\n",
    "best_RF_scat.fit(x_train_scat, y_train_scat)\n",
    "best_y_pred_scat = best_RF_scat.predict(x_test_scat)"
   ]
  },
  {
   "cell_type": "code",
   "execution_count": null,
   "metadata": {},
   "outputs": [
    {
     "data": {
      "image/png": "[encoded data removed]",
      "text/plain": [
       "<Figure size 1000x1000 with 1 Axes>"
      ]
     },
     "metadata": {},
     "output_type": "display_data"
    },
    {
     "name": "stdout",
     "output_type": "stream",
     "text": [
      "R^2: 0.826\n",
      "RMSE: 33765.693\n",
      "MAE: 17811.553\n",
      "Pearson correlation: 0.909\n",
      "Spearman correlation: 0.946\n"
     ]
    }
   ],
   "source": [
    "# # scatter plot of predicted vs actual\n",
    "# plt.figure(figsize=(10, 10))\n",
    "# plt.scatter(y_test_UMAP, best_y_pred_UMAP)\n",
    "# plt.plot(range(0, 600000), range(0, 600000), color='red')\n",
    "# plt.xlabel(\"True values\")\n",
    "# plt.ylabel(\"Predicted values\")\n",
    "# plt.title(\"Optimised UMAP RF model: UMAP Filter\")\n",
    "# plt.show()\n",
    "\n",
    "# pearson_corr_best_UMAP, _ = stats.pearsonr(y_test_UMAP, best_y_pred_UMAP)\n",
    "# spearman_corr_best_UMAP, _ = stats.spearmanr(y_test_UMAP, best_y_pred_UMAP)\n",
    "# r2_best_UMAP = r2_score(y_test_UMAP, best_y_pred_UMAP)\n",
    "# mae_best_UMAP = mean_absolute_error(y_test_UMAP, best_y_pred_UMAP)\n",
    "# rmse_best_UMAP = math.sqrt(mean_squared_error(y_test_UMAP, best_y_pred_UMAP))\n",
    "\n",
    "# print(f\"R^2: {r2_best_UMAP:.3f}\")\n",
    "# print(f\"RMSE: {rmse_best_UMAP:.3f}\")\n",
    "# print(f\"MAE: {mae_best_UMAP:.3f}\")\n",
    "# print(f\"Pearson correlation: {pearson_corr_best_UMAP:.3f}\")\n",
    "# print(f\"Spearman correlation: {spearman_corr_best_UMAP:.3f}\")\n",
    "\n",
    "plt.figure(figsize=(10, 10))\n",
    "plt.scatter(y_test_scat, best_y_pred_scat)\n",
    "plt.plot(range(0, 600000), range(0, 600000), color='red')\n",
    "plt.xlabel(\"True values\")\n",
    "plt.ylabel(\"Predicted values\")\n",
    "plt.title(\"Optimised UMAP RF model: Scatter Filter\")\n",
    "plt.show()\n",
    "\n",
    "pearson_corr_best_scat, _ = stats.pearsonr(y_test_scat, best_y_pred_scat)\n",
    "spearman_corr_best_scat, _ = stats.spearmanr(y_test_scat, best_y_pred_scat)\n",
    "r2_best_scat = r2_score(y_test_scat, best_y_pred_scat)\n",
    "mae_best_scat = mean_absolute_error(y_test_scat, best_y_pred_scat)\n",
    "rmse_best_scat = math.sqrt(mean_squared_error(y_test_scat, best_y_pred_scat))\n",
    "\n",
    "print(f\"R^2: {r2_best_scat:.3f}\")\n",
    "print(f\"RMSE: {rmse_best_scat:.3f}\")\n",
    "print(f\"MAE: {mae_best_scat:.3f}\")\n",
    "print(f\"Pearson correlation: {pearson_corr_best_scat:.3f}\")\n",
    "print(f\"Spearman correlation: {spearman_corr_best_scat:.3f}\")\n"
   ]
  },
  {
   "cell_type": "code",
   "execution_count": null,
   "metadata": {},
   "outputs": [],
   "source": [
    "# test_file_path = \"../Data/Data/Initial Filtering/test_filter.csv\"\n",
    "# test_df = pd.read_csv(test_file_path) #(1459, 66)\n",
    "\n",
    "# X_preprocessed_sub = pipeline.transform(test_df) \n"
   ]
  },
  {
   "cell_type": "code",
   "execution_count": null,
   "metadata": {},
   "outputs": [],
   "source": [
    "# y_pred_sub =  best_RF_UMAP.predict(X_preprocessed_sub)\n",
    "# y_pred_sub =  best_RF_scat.predict(X_preprocessed_sub)"
   ]
  },
  {
   "cell_type": "code",
   "execution_count": null,
   "metadata": {},
   "outputs": [
    {
     "name": "stderr",
     "output_type": "stream",
     "text": [
      "/var/folders/r0/qp6_p2111v1dzb0fg2bbfqsr0000gn/T/ipykernel_24701/3151214707.py:2: SettingWithCopyWarning: \n",
      "A value is trying to be set on a copy of a slice from a DataFrame.\n",
      "Try using .loc[row_indexer,col_indexer] = value instead\n",
      "\n",
      "See the caveats in the documentation: https://pandas.pydata.org/pandas-docs/stable/user_guide/indexing.html#returning-a-view-versus-a-copy\n",
      "  submission['SalePrice'] = y_pred_sub\n"
     ]
    },
    {
     "data": {
      "text/html": [
       "<div>\n",
       "<style scoped>\n",
       "    .dataframe tbody tr th:only-of-type {\n",
       "        vertical-align: middle;\n",
       "    }\n",
       "\n",
       "    .dataframe tbody tr th {\n",
       "        vertical-align: top;\n",
       "    }\n",
       "\n",
       "    .dataframe thead th {\n",
       "        text-align: right;\n",
       "    }\n",
       "</style>\n",
       "<table border=\"1\" class=\"dataframe\">\n",
       "  <thead>\n",
       "    <tr style=\"text-align: right;\">\n",
       "      <th></th>\n",
       "      <th>Id</th>\n",
       "      <th>SalePrice</th>\n",
       "    </tr>\n",
       "  </thead>\n",
       "  <tbody>\n",
       "    <tr>\n",
       "      <th>0</th>\n",
       "      <td>1461</td>\n",
       "      <td>122558.563259</td>\n",
       "    </tr>\n",
       "    <tr>\n",
       "      <th>1</th>\n",
       "      <td>1462</td>\n",
       "      <td>161492.044956</td>\n",
       "    </tr>\n",
       "    <tr>\n",
       "      <th>2</th>\n",
       "      <td>1463</td>\n",
       "      <td>185811.480123</td>\n",
       "    </tr>\n",
       "    <tr>\n",
       "      <th>3</th>\n",
       "      <td>1464</td>\n",
       "      <td>186456.569298</td>\n",
       "    </tr>\n",
       "    <tr>\n",
       "      <th>4</th>\n",
       "      <td>1465</td>\n",
       "      <td>191354.628026</td>\n",
       "    </tr>\n",
       "  </tbody>\n",
       "</table>\n",
       "</div>"
      ],
      "text/plain": [
       "     Id      SalePrice\n",
       "0  1461  122558.563259\n",
       "1  1462  161492.044956\n",
       "2  1463  185811.480123\n",
       "3  1464  186456.569298\n",
       "4  1465  191354.628026"
      ]
     },
     "execution_count": 34,
     "metadata": {},
     "output_type": "execute_result"
    }
   ],
   "source": [
    "# submission = test_df[['Id']]\n",
    "# submission['SalePrice'] = y_pred_sub\n",
    "\n",
    "# submission.to_csv(\"../Data/Data/Submission/submission_RFR.csv\", index=False)\n",
    "# submission.head()"
   ]
  },
  {
   "cell_type": "markdown",
   "metadata": {},
   "source": [
    "# Score = 0.15388"
   ]
  }
 ],
 "metadata": {
  "kernelspec": {
   "display_name": "base",
   "language": "python",
   "name": "python3"
  },
  "language_info": {
   "codemirror_mode": {
    "name": "ipython",
    "version": 3
   },
   "file_extension": ".py",
   "mimetype": "text/x-python",
   "name": "python",
   "nbconvert_exporter": "python",
   "pygments_lexer": "ipython3",
   "version": "3.11.7"
  }
 },
 "nbformat": 4,
 "nbformat_minor": 2
}
